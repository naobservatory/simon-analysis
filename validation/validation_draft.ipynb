{
 "cells": [
  {
   "cell_type": "markdown",
   "metadata": {},
   "source": [
    "# Validation\n",
    "Three goals:\n",
    "\n",
    " - Check where the reads of our target studies (Crits-Christoph, Rothman, Spurbeck, and Brinch) end up.\n",
    "\n",
    " - Check if there is some bias in which viral species have worse or better scores. Understanding the makeup of the left side of the distribution but got bogged down by results that couldn’t be right. I will pick up on this tomorrow, though I will first work on point 1 as that seems more important.\n",
    " - Cross-check BowTie2 results with Jeff’s original validation results."
   ]
  },
  {
   "cell_type": "code",
   "execution_count": 1,
   "metadata": {},
   "outputs": [],
   "source": [
    "import os\n",
    "import json\n",
    "import matplotlib.pyplot as plt\n",
    "from math import sqrt\n",
    "from collections import Counter\n",
    "import numpy as np\n",
    "import pandas as pd"
   ]
  },
  {
   "cell_type": "code",
   "execution_count": 2,
   "metadata": {},
   "outputs": [],
   "source": [
    "dashboard = os.path.expanduser(\"~/code/mgs-pipeline/dashboard/\")\n",
    "\n",
    "with open(os.path.join(dashboard, \"human_virus_sample_counts.json\")) as inf:\n",
    "    human_virus_sample_counts = json.load(inf)\n",
    "\n",
    "with open(os.path.join(dashboard, \"metadata_samples.json\")) as inf:\n",
    "    metadata_samples = json.load(inf)\n",
    "\n",
    "with open(os.path.join(dashboard, \"metadata_bioprojects.json\")) as inf:\n",
    "    metadata_bioprojects = json.load(inf)\n",
    "\n",
    "with open(os.path.join(dashboard, \"metadata_papers.json\")) as inf:\n",
    "    metadata_papers = json.load(inf)\n",
    "\n",
    "with open(os.path.join(dashboard, \"taxonomic_names.json\")) as inf:\n",
    "    taxonomic_names = json.load(inf)\n",
    "\n",
    "\n",
    "studies = list(metadata_papers.keys())"
   ]
  },
  {
   "cell_type": "code",
   "execution_count": 61,
   "metadata": {},
   "outputs": [
    {
     "data": {
      "text/plain": [
       "{'country': 'United States',\n",
       " 'county': 'Montgomery County',\n",
       " 'date': '2022-01-02',\n",
       " 'enrichment': 'viral',\n",
       " 'fine_location': 'J',\n",
       " 'location': 'Ohio',\n",
       " 'method': 'IJ',\n",
       " 'reads': 6390165,\n",
       " 'state': 'Ohio'}"
      ]
     },
     "execution_count": 61,
     "metadata": {},
     "output_type": "execute_result"
    }
   ],
   "source": [
    "# metadata_samples[\"SRR23083823\"]\n",
    "metadata_samples[\"SRR23083780\"]"
   ]
  },
  {
   "cell_type": "code",
   "execution_count": 3,
   "metadata": {},
   "outputs": [
    {
     "ename": "KeyboardInterrupt",
     "evalue": "",
     "output_type": "error",
     "traceback": [
      "\u001b[0;31m---------------------------------------------------------------------------\u001b[0m",
      "\u001b[0;31mKeyboardInterrupt\u001b[0m                         Traceback (most recent call last)",
      "\u001b[1;32m/Users/simongrimm/code/simons-public-notebook/validation/validation_draft.ipynb Cell 4\u001b[0m line \u001b[0;36m1\n\u001b[1;32m     <a href='vscode-notebook-cell:/Users/simongrimm/code/simons-public-notebook/validation/validation_draft.ipynb#W3sZmlsZQ%3D%3D?line=13'>14</a>\u001b[0m \u001b[39mfor\u001b[39;00m filename \u001b[39min\u001b[39;00m os\u001b[39m.\u001b[39mlistdir(\u001b[39m'\u001b[39m\u001b[39mhvreads\u001b[39m\u001b[39m'\u001b[39m):\n\u001b[1;32m     <a href='vscode-notebook-cell:/Users/simongrimm/code/simons-public-notebook/validation/validation_draft.ipynb#W3sZmlsZQ%3D%3D?line=14'>15</a>\u001b[0m     \u001b[39mwith\u001b[39;00m \u001b[39mopen\u001b[39m(\u001b[39mf\u001b[39m\u001b[39m'\u001b[39m\u001b[39mhvreads/\u001b[39m\u001b[39m{\u001b[39;00mfilename\u001b[39m}\u001b[39;00m\u001b[39m'\u001b[39m) \u001b[39mas\u001b[39;00m f:\n\u001b[0;32m---> <a href='vscode-notebook-cell:/Users/simongrimm/code/simons-public-notebook/validation/validation_draft.ipynb#W3sZmlsZQ%3D%3D?line=15'>16</a>\u001b[0m         hvreads \u001b[39m=\u001b[39m json\u001b[39m.\u001b[39;49mload(f)\n\u001b[1;32m     <a href='vscode-notebook-cell:/Users/simongrimm/code/simons-public-notebook/validation/validation_draft.ipynb#W3sZmlsZQ%3D%3D?line=16'>17</a>\u001b[0m         fastq_read_entries \u001b[39m+\u001b[39m\u001b[39m=\u001b[39m \u001b[39mlen\u001b[39m(hvreads)\n\u001b[1;32m     <a href='vscode-notebook-cell:/Users/simongrimm/code/simons-public-notebook/validation/validation_draft.ipynb#W3sZmlsZQ%3D%3D?line=18'>19</a>\u001b[0m \u001b[39mprint\u001b[39m(fastq_read_entries, sam_entries)\n",
      "File \u001b[0;32m/opt/homebrew/Cellar/python@3.10/3.10.8/Frameworks/Python.framework/Versions/3.10/lib/python3.10/json/__init__.py:293\u001b[0m, in \u001b[0;36mload\u001b[0;34m(fp, cls, object_hook, parse_float, parse_int, parse_constant, object_pairs_hook, **kw)\u001b[0m\n\u001b[1;32m    274\u001b[0m \u001b[39mdef\u001b[39;00m \u001b[39mload\u001b[39m(fp, \u001b[39m*\u001b[39m, \u001b[39mcls\u001b[39m\u001b[39m=\u001b[39m\u001b[39mNone\u001b[39;00m, object_hook\u001b[39m=\u001b[39m\u001b[39mNone\u001b[39;00m, parse_float\u001b[39m=\u001b[39m\u001b[39mNone\u001b[39;00m,\n\u001b[1;32m    275\u001b[0m         parse_int\u001b[39m=\u001b[39m\u001b[39mNone\u001b[39;00m, parse_constant\u001b[39m=\u001b[39m\u001b[39mNone\u001b[39;00m, object_pairs_hook\u001b[39m=\u001b[39m\u001b[39mNone\u001b[39;00m, \u001b[39m*\u001b[39m\u001b[39m*\u001b[39mkw):\n\u001b[1;32m    276\u001b[0m \u001b[39m    \u001b[39m\u001b[39m\"\"\"Deserialize ``fp`` (a ``.read()``-supporting file-like object containing\u001b[39;00m\n\u001b[1;32m    277\u001b[0m \u001b[39m    a JSON document) to a Python object.\u001b[39;00m\n\u001b[1;32m    278\u001b[0m \n\u001b[0;32m   (...)\u001b[0m\n\u001b[1;32m    291\u001b[0m \u001b[39m    kwarg; otherwise ``JSONDecoder`` is used.\u001b[39;00m\n\u001b[1;32m    292\u001b[0m \u001b[39m    \"\"\"\u001b[39;00m\n\u001b[0;32m--> 293\u001b[0m     \u001b[39mreturn\u001b[39;00m loads(fp\u001b[39m.\u001b[39;49mread(),\n\u001b[1;32m    294\u001b[0m         \u001b[39mcls\u001b[39;49m\u001b[39m=\u001b[39;49m\u001b[39mcls\u001b[39;49m, object_hook\u001b[39m=\u001b[39;49mobject_hook,\n\u001b[1;32m    295\u001b[0m         parse_float\u001b[39m=\u001b[39;49mparse_float, parse_int\u001b[39m=\u001b[39;49mparse_int,\n\u001b[1;32m    296\u001b[0m         parse_constant\u001b[39m=\u001b[39;49mparse_constant, object_pairs_hook\u001b[39m=\u001b[39;49mobject_pairs_hook, \u001b[39m*\u001b[39;49m\u001b[39m*\u001b[39;49mkw)\n",
      "File \u001b[0;32m/opt/homebrew/Cellar/python@3.10/3.10.8/Frameworks/Python.framework/Versions/3.10/lib/python3.10/json/__init__.py:346\u001b[0m, in \u001b[0;36mloads\u001b[0;34m(s, cls, object_hook, parse_float, parse_int, parse_constant, object_pairs_hook, **kw)\u001b[0m\n\u001b[1;32m    341\u001b[0m     s \u001b[39m=\u001b[39m s\u001b[39m.\u001b[39mdecode(detect_encoding(s), \u001b[39m'\u001b[39m\u001b[39msurrogatepass\u001b[39m\u001b[39m'\u001b[39m)\n\u001b[1;32m    343\u001b[0m \u001b[39mif\u001b[39;00m (\u001b[39mcls\u001b[39m \u001b[39mis\u001b[39;00m \u001b[39mNone\u001b[39;00m \u001b[39mand\u001b[39;00m object_hook \u001b[39mis\u001b[39;00m \u001b[39mNone\u001b[39;00m \u001b[39mand\u001b[39;00m\n\u001b[1;32m    344\u001b[0m         parse_int \u001b[39mis\u001b[39;00m \u001b[39mNone\u001b[39;00m \u001b[39mand\u001b[39;00m parse_float \u001b[39mis\u001b[39;00m \u001b[39mNone\u001b[39;00m \u001b[39mand\u001b[39;00m\n\u001b[1;32m    345\u001b[0m         parse_constant \u001b[39mis\u001b[39;00m \u001b[39mNone\u001b[39;00m \u001b[39mand\u001b[39;00m object_pairs_hook \u001b[39mis\u001b[39;00m \u001b[39mNone\u001b[39;00m \u001b[39mand\u001b[39;00m \u001b[39mnot\u001b[39;00m kw):\n\u001b[0;32m--> 346\u001b[0m     \u001b[39mreturn\u001b[39;00m _default_decoder\u001b[39m.\u001b[39;49mdecode(s)\n\u001b[1;32m    347\u001b[0m \u001b[39mif\u001b[39;00m \u001b[39mcls\u001b[39m \u001b[39mis\u001b[39;00m \u001b[39mNone\u001b[39;00m:\n\u001b[1;32m    348\u001b[0m     \u001b[39mcls\u001b[39m \u001b[39m=\u001b[39m JSONDecoder\n",
      "File \u001b[0;32m/opt/homebrew/Cellar/python@3.10/3.10.8/Frameworks/Python.framework/Versions/3.10/lib/python3.10/json/decoder.py:337\u001b[0m, in \u001b[0;36mJSONDecoder.decode\u001b[0;34m(self, s, _w)\u001b[0m\n\u001b[1;32m    332\u001b[0m \u001b[39mdef\u001b[39;00m \u001b[39mdecode\u001b[39m(\u001b[39mself\u001b[39m, s, _w\u001b[39m=\u001b[39mWHITESPACE\u001b[39m.\u001b[39mmatch):\n\u001b[1;32m    333\u001b[0m \u001b[39m    \u001b[39m\u001b[39m\"\"\"Return the Python representation of ``s`` (a ``str`` instance\u001b[39;00m\n\u001b[1;32m    334\u001b[0m \u001b[39m    containing a JSON document).\u001b[39;00m\n\u001b[1;32m    335\u001b[0m \n\u001b[1;32m    336\u001b[0m \u001b[39m    \"\"\"\u001b[39;00m\n\u001b[0;32m--> 337\u001b[0m     obj, end \u001b[39m=\u001b[39m \u001b[39mself\u001b[39;49m\u001b[39m.\u001b[39;49mraw_decode(s, idx\u001b[39m=\u001b[39;49m_w(s, \u001b[39m0\u001b[39;49m)\u001b[39m.\u001b[39;49mend())\n\u001b[1;32m    338\u001b[0m     end \u001b[39m=\u001b[39m _w(s, end)\u001b[39m.\u001b[39mend()\n\u001b[1;32m    339\u001b[0m     \u001b[39mif\u001b[39;00m end \u001b[39m!=\u001b[39m \u001b[39mlen\u001b[39m(s):\n",
      "File \u001b[0;32m/opt/homebrew/Cellar/python@3.10/3.10.8/Frameworks/Python.framework/Versions/3.10/lib/python3.10/json/decoder.py:353\u001b[0m, in \u001b[0;36mJSONDecoder.raw_decode\u001b[0;34m(self, s, idx)\u001b[0m\n\u001b[1;32m    344\u001b[0m \u001b[39m\u001b[39m\u001b[39m\"\"\"Decode a JSON document from ``s`` (a ``str`` beginning with\u001b[39;00m\n\u001b[1;32m    345\u001b[0m \u001b[39ma JSON document) and return a 2-tuple of the Python\u001b[39;00m\n\u001b[1;32m    346\u001b[0m \u001b[39mrepresentation and the index in ``s`` where the document ended.\u001b[39;00m\n\u001b[0;32m   (...)\u001b[0m\n\u001b[1;32m    350\u001b[0m \n\u001b[1;32m    351\u001b[0m \u001b[39m\"\"\"\u001b[39;00m\n\u001b[1;32m    352\u001b[0m \u001b[39mtry\u001b[39;00m:\n\u001b[0;32m--> 353\u001b[0m     obj, end \u001b[39m=\u001b[39m \u001b[39mself\u001b[39;49m\u001b[39m.\u001b[39;49mscan_once(s, idx)\n\u001b[1;32m    354\u001b[0m \u001b[39mexcept\u001b[39;00m \u001b[39mStopIteration\u001b[39;00m \u001b[39mas\u001b[39;00m err:\n\u001b[1;32m    355\u001b[0m     \u001b[39mraise\u001b[39;00m JSONDecodeError(\u001b[39m\"\u001b[39m\u001b[39mExpecting value\u001b[39m\u001b[39m\"\u001b[39m, s, err\u001b[39m.\u001b[39mvalue) \u001b[39mfrom\u001b[39;00m \u001b[39mNone\u001b[39;00m\n",
      "\u001b[0;31mKeyboardInterrupt\u001b[0m: "
     ]
    }
   ],
   "source": [
    "# count lines in all sam files that do not start with @\n",
    "\n",
    "sam_entries = 0\n",
    "\n",
    "for filename in os.listdir('hvsams'):\n",
    "    if filename.endswith(\".sam\"):\n",
    "        with open('hvsams/'+filename) as f:\n",
    "            for line in f:\n",
    "                if not line.startswith('@'):\n",
    "                    sam_entries += 1\n",
    "\n",
    "# count entries in hvreads.json\n",
    "fastq_read_entries = 0\n",
    "for filename in os.listdir('hvreads'):\n",
    "    with open(f'hvreads/{filename}') as f:\n",
    "        hvreads = json.load(f)\n",
    "        fastq_read_entries += len(hvreads)\n",
    "\n",
    "print(fastq_read_entries, sam_entries)\n"
   ]
  },
  {
   "cell_type": "markdown",
   "metadata": {},
   "source": [
    "## Understanding overall alignment score quality distribution"
   ]
  },
  {
   "cell_type": "code",
   "execution_count": 4,
   "metadata": {},
   "outputs": [],
   "source": [
    "refseq_directory_path = \"raw-genomes\"\n",
    "\n",
    "refseq_id_and_names = {}\n",
    "\n",
    "for filename in os.listdir(refseq_directory_path):\n",
    "    with open(os.path.join(refseq_directory_path, filename)) as inf:\n",
    "        for line in inf:\n",
    "            if line.startswith(\">\"):\n",
    "                identifier, description = line[1:].split(\" \", 1)\n",
    "                identifier = str(identifier.strip())\n",
    "                name = description.split(\",\", 1)[0]\n",
    "                refseq_id_and_names[identifier] = name.strip()\n",
    "            else:\n",
    "                continue"
   ]
  },
  {
   "cell_type": "code",
   "execution_count": 5,
   "metadata": {},
   "outputs": [],
   "source": [
    "sam_records = []\n",
    "\n",
    "hvsams_directory_path = \"hvsams\"\n",
    "\n",
    "\n",
    "for filename in os.listdir(hvsams_directory_path):\n",
    "    if filename.endswith(\".sam\"):\n",
    "        with open(hvsams_directory_path + \"/\" + filename) as inf:\n",
    "            for line in inf:\n",
    "                if line.startswith(\"@\"):\n",
    "                    continue\n",
    "                else:\n",
    "                    line_split = line.split(\"\\t\")\n",
    "                     \n",
    "                    read_id = line_split[0]\n",
    "                    sample_id = read_id.split(\".\")[0]\n",
    "                    if  \"_\" in sample_id:\n",
    "                        sample_id = sample_id.split(\"_\", 1)[1]\n",
    "\n",
    "                    \n",
    "                    reference_sequence = str(line_split[2])\n",
    "                    reference_name = refseq_id_and_names.get(reference_sequence, \"No Alignment\")\n",
    "                    if reference_sequence == \"*\":\n",
    "                        alignment_score = 0 # no aligment found\n",
    "                        sam_records.append([read_id, alignment_score, sample_id, reference_sequence, reference_name])\n",
    "                        continue\n",
    "                \n",
    "                    read_length = len(line_split[9])\n",
    "\n",
    "                    optional_fields_dict = {}\n",
    "                    for field in line_split[11:]:\n",
    "                        key, _, value = field.split(\":\")\n",
    "                        optional_fields_dict[key] = value\n",
    "\n",
    "                    if \"AS\" in optional_fields_dict:\n",
    "                        alignment_score = int(optional_fields_dict[\"AS\"])\n",
    "                        length_adjusted_alignment_score = alignment_score / sqrt(read_length)\n",
    "                        sam_records.append([read_id, length_adjusted_alignment_score, sample_id, reference_sequence,  reference_name])\n",
    "\n",
    "                    else: # no aligment performed\n",
    "                        alignment_score = 0\n",
    "                        sam_records.append([read_id, alignment_score, sample_id, reference_sequence, reference_name])\n",
    "                        continue"
   ]
  },
  {
   "cell_type": "code",
   "execution_count": 49,
   "metadata": {},
   "outputs": [
    {
     "data": {
      "text/plain": [
       "[['SRR13711891.4013',\n",
       "  23.669528414027724,\n",
       "  'SRR13711891',\n",
       "  'NC_001474.2',\n",
       "  'Dengue virus 2'],\n",
       " ['SRR13711891.4013',\n",
       "  4.5518323873130235,\n",
       "  'SRR13711891',\n",
       "  'NC_001474.2',\n",
       "  'Dengue virus 2']]"
      ]
     },
     "execution_count": 49,
     "metadata": {},
     "output_type": "execute_result"
    }
   ],
   "source": [
    "[x for x in sam_records if x[0] == \"SRR13711891.4013\"]"
   ]
  },
  {
   "cell_type": "code",
   "execution_count": 6,
   "metadata": {},
   "outputs": [],
   "source": [
    "df = pd.DataFrame(sam_records, columns=[\"read_id\", \"alignment_score\", \"sample_id\", \"reference_sequence\", \"reference_name\"])"
   ]
  },
  {
   "cell_type": "code",
   "execution_count": 8,
   "metadata": {},
   "outputs": [
    {
     "name": "stdout",
     "output_type": "stream",
     "text": [
      "               read_id  alignment_score   sample_id reference_sequence   \n",
      "0  ERR4682442.12860147         0.000000  ERR4682442                  *  \\\n",
      "1  ERR4682442.12860147         0.000000  ERR4682442                  *   \n",
      "2  ERR4682442.13005367         0.000000  ERR4682442                  *   \n",
      "3  ERR4682442.13005367         0.000000  ERR4682442                  *   \n",
      "4  ERR4682442.13010616        21.147261  ERR4682442        NC_001454.1   \n",
      "\n",
      "       reference_name  \n",
      "0        No Alignment  \n",
      "1        No Alignment  \n",
      "2        No Alignment  \n",
      "3        No Alignment  \n",
      "4  Human adenovirus F  \n"
     ]
    }
   ],
   "source": [
    "print(df.head())"
   ]
  },
  {
   "cell_type": "code",
   "execution_count": 7,
   "metadata": {},
   "outputs": [
    {
     "data": {
      "image/png": "[encoded data removed]",
      "text/plain": [
       "<Figure size 640x480 with 1 Axes>"
      ]
     },
     "metadata": {},
     "output_type": "display_data"
    },
    {
     "data": {
      "text/plain": [
       "<Figure size 640x480 with 0 Axes>"
      ]
     },
     "metadata": {},
     "output_type": "display_data"
    }
   ],
   "source": [
    "plt.hist(df[\"alignment_score\"], bins=100)\n",
    "plt.title(\"Length-adjusted alignment scores\")\n",
    "plt.xlabel(\"Alignment Score\")\n",
    "plt.ylabel(\"Frequency\")\n",
    "plt.show()\n",
    "plt.clf()\n",
    "\n",
    "# adapt code to plot alignment scores as a histogram\n"
   ]
  },
  {
   "cell_type": "code",
   "execution_count": 16,
   "metadata": {},
   "outputs": [
    {
     "name": "stdout",
     "output_type": "stream",
     "text": [
      "                       read_id  alignment_score    sample_id   \n",
      "5100785   SRR12204734.95316656         4.735680  SRR12204734  \\\n",
      "1175060       SRR13711891.4013         4.551832  SRR13711891   \n",
      "1274341      SRR14530833.22865         5.373201  SRR14530833   \n",
      "2749034    ERR4682430.20545472         5.126867   ERR4682430   \n",
      "1673872  M_ERR4678607.24608978         4.611946   ERR4678607   \n",
      "1699432     ERR2683277.8314686         5.225578   ERR2683277   \n",
      "3203521  SRR12204851.141885562         4.735680  SRR12204851   \n",
      "341015      SRR14530845.849711         4.676675  SRR14530845   \n",
      "4244513     SRR8749024.1225113         5.074690   SRR8749024   \n",
      "5828120    ERR4682844.31683125         4.638594   ERR4682844   \n",
      "5888194    ERR2683146.33466070         4.898979   ERR2683146   \n",
      "3571125     SRR23800659.646182         5.045488  SRR23800659   \n",
      "654931     ERR2607510.14239343         5.208246   ERR2607510   \n",
      "2953454   SRR12204850.47867557         5.045488  SRR12204850   \n",
      "4062557   SRR12204849.77422202         5.208246  SRR12204849   \n",
      "5919100     ERR2683153.1537839         4.817330   ERR2683153   \n",
      "4403286    ERR2683243.18902889         5.143928   ERR2683243   \n",
      "5281502    SRR23800648.5518634         4.557215  SRR23800648   \n",
      "1111979  M_ERR1414241.14998099         4.647580   ERR1414241   \n",
      "5017197   SRR12204734.40625265         4.898979  SRR12204734   \n",
      "\n",
      "        reference_sequence                                     reference_name  \n",
      "5100785        NC_019028.1  Astrovirus MLB3 isolate MLB3/human/Vellore/265...  \n",
      "1175060        NC_001474.2                                     Dengue virus 2  \n",
      "1274341        NC_045512.2  Severe acute respiratory syndrome coronavirus ...  \n",
      "2749034        NC_001454.1                                 Human adenovirus F  \n",
      "1673872        NC_003976.2                                      Ljungan virus  \n",
      "1699432        NC_010956.1                                 Human adenovirus D  \n",
      "3203521        NC_074775.1                            Aichi virus genomic RNA  \n",
      "341015         NC_045512.2  Severe acute respiratory syndrome coronavirus ...  \n",
      "4244513        NC_038523.1                      Human papillomavirus type 172  \n",
      "5828120        NC_001699.1                                    JC polyomavirus  \n",
      "5888194        NC_022095.1      Human papillomavirus type 179 complete genome  \n",
      "3571125        NC_001943.1                                   Human astrovirus  \n",
      "654931         NC_001731.1              Molluscum contagiosum virus subtype 1  \n",
      "2953454        NC_038308.1                 Human enterovirus 68 strain Fermon  \n",
      "4062557        NC_011508.2                              Rotavirus A segment 3  \n",
      "5919100        NC_001731.1              Molluscum contagiosum virus subtype 1  \n",
      "4403286        NC_007543.1                              Rotavirus C segment 6  \n",
      "5281502        NC_001454.1                                 Human adenovirus F  \n",
      "1111979        NC_002642.1                            Yaba-like disease virus  \n",
      "5017197        NC_001918.1                                        Aichi virus  \n",
      "                        read_id  alignment_score    sample_id   \n",
      "3954863   SRR12204849.122997717         9.846840  SRR12204849  \\\n",
      "4015685    SRR12204849.32619597        10.090977  SRR12204849   \n",
      "4929639   SRR12204734.165172199         9.553010  SRR12204734   \n",
      "1116595    SRR18341111.15233293         9.950372  SRR18341111   \n",
      "3941775   SRR12204849.111548572         9.928219  SRR12204849   \n",
      "2073912        SRR13712309.3498         9.517468  SRR13712309   \n",
      "5649172      SRR14530735.163304        10.172356  SRR14530735   \n",
      "3151513     SRR18341012.3892809        10.149379  SRR18341012   \n",
      "5569191      ERR4682847.1470544        10.076553   ERR4682847   \n",
      "3961547   SRR12204849.128409635        10.335113  SRR12204849   \n",
      "3681297   SRR12204848.165921779        10.369507  SRR12204848   \n",
      "647345     SRR18340989.11051782         9.751364  SRR18340989   \n",
      "4387272     SRR14530780.4134364        10.497871  SRR14530780   \n",
      "3140660  M_SRR12204850.99220022        10.451312  SRR12204850   \n",
      "1119272   M_SRR14530855.8413541        10.247424  SRR14530855   \n",
      "3996153   SRR12204849.159910815        10.172356  SRR12204849   \n",
      "4013129    SRR12204849.30270747         9.684083  SRR12204849   \n",
      "326100        SRR14530845.73533        10.447890  SRR14530845   \n",
      "1783657    M_SRR14530831.421703        10.199855  SRR14530831   \n",
      "4664020   SRR12204735.154779354         9.797959  SRR12204735   \n",
      "\n",
      "        reference_sequence                                     reference_name  \n",
      "3954863        NC_011501.2                              Rotavirus A segment 7  \n",
      "4015685        NC_011501.2                              Rotavirus A segment 7  \n",
      "4929639        NC_032480.1                     Husavirus sp. isolate 16370_59  \n",
      "1116595        NC_045512.2  Severe acute respiratory syndrome coronavirus ...  \n",
      "3941775        NC_011501.2                              Rotavirus A segment 7  \n",
      "2073912        NC_003687.1                                     Powassan virus  \n",
      "5649172        NC_045512.2  Severe acute respiratory syndrome coronavirus ...  \n",
      "3151513        NC_011400.1                                    Astrovirus MLB1  \n",
      "5569191        NC_001460.1                                 Human adenovirus A  \n",
      "3961547        NC_011501.2                              Rotavirus A segment 7  \n",
      "3681297        NC_011501.2                              Rotavirus A segment 7  \n",
      "647345         NC_011400.1                                    Astrovirus MLB1  \n",
      "4387272        NC_045512.2  Severe acute respiratory syndrome coronavirus ...  \n",
      "3140660        NC_011501.2                              Rotavirus A segment 7  \n",
      "1119272        NC_035475.1                        Hudisavirus sp. isolate P22  \n",
      "3996153        NC_011501.2                              Rotavirus A segment 7  \n",
      "4013129        NC_011501.2                              Rotavirus A segment 7  \n",
      "326100         NC_045512.2  Severe acute respiratory syndrome coronavirus ...  \n",
      "1783657        NC_045512.2  Severe acute respiratory syndrome coronavirus ...  \n",
      "4664020        NC_030922.1                        Mamastrovirus 1 genomic RNA  \n"
     ]
    }
   ],
   "source": [
    "alignment_score_5_sub_sample = df[df[\"alignment_score\"].round() == 5].sample(n=20, random_state=1)\n",
    "\n",
    "# get shape of alignment_score_5_sub_sample\n",
    "print(alignment_score_5_sub_sample)\n",
    "\n",
    "\n",
    "alignment_score_10_sub_sample = df[df[\"alignment_score\"].round() == 10].sample(n=20, random_state=1)\n",
    "\n",
    "print(alignment_score_10_sub_sample)"
   ]
  },
  {
   "cell_type": "code",
   "execution_count": 48,
   "metadata": {},
   "outputs": [
    {
     "name": "stdout",
     "output_type": "stream",
     "text": [
      "SRR12204734.95316656 read_1 CTTGGCATAAGAGTAGATTTTTGTACAACCTTACCTGTACTGTCTTTTATTTCAACAACAGATGAAGAAGCAGCTGGTAGACACGTATAAATACGTACCACAGCAGCCATAATAGCAATGGCTGTAGTATGTATGCCCATGGAGTCACAT read_2 CGTTTTATTATTAAAAAAAAAAAAAAAAAAATAATAAAAAAAAAAAAAAAAAAAAAAATAAAAAAAAAAAAAAATTATAATTTAATGTTGTTTTTTTTTAAATTTAAAAAAAAAAAAATTAAAAAAAAAAAAAAAAAAAAAAAAAAAAAA\n",
      "SRR13711891.4013 CCTTTTGAAGGTTCCCATTGTTGTATGTCTTTTCTAATCTTTCCCATGTCATTCAGAGCTGTCAAAGCGTTTGCGAACCTGTCATCTAAAGGTTTCACAACACAATCATCTCCACTGATGGCCATTCTTGACAACCTTTCGCGCCCCACTCTAGCCAACCAGTTTTGCACAGCAGCTTCTTCTGTGACTGTCAGATGCTGGATGTTTTTAAAGACTCCTTCTCCTTCCATCTGTCTGATTAATTGAGCTTCC\n",
      "SRR14530833.22865 TGTTTTGTATGCGTCAATATGCTTATTCAGCAAAATGACTTGATCTTTGAAATTTGGATCTTTGTCATCCAATTTGATGGCACCTGTGT\n",
      "ERR4682430.20545472 read_1 CCCTGGGGTGGAGGTAGGACCACTGGAGGGCGTCATGCTCGGGGGTGGTGTTGTAAATAATCCAATCGTAACAGGGTTTTTGGGCATGAAACTGAAATATGTCCTTAAGGAGCAGGCTAATGGCCAGGGGTAGTCCCTTGGTAAAAGTATT read_2 TCCCAGCTTATTAATCCTCCCCCCGAAACCGTTTTTTTCATCGGCCCCCAAGTGGACATGATTCCCCCAGCCGAAATTAGGGCGTGGGAGATGCAAAGTTGCGAGGGTAACTATGGCCCCGGGCCGGAAGGTACCATATTCGGCCAGTAGG\n",
      "M_ERR4678607.24608978 AAAGAAAGTGAAAGTGATGATATAAATAATAATATTAAAGAATTTATGCGTCATCACGAGGAAAATTTGCTTGATAATAATGCTATTAACGCAGAAACCCCTGCAGGTAAAAGCGTAATTGAGGAAGAATTTACTCAACATTAATACTAAAAAAGGAATAAAAAAATGACACCAATTATATTTAAAAATTATACAAAATATTATTGCAAAAATATTGGAGTATCAAATATTGATTTT\n",
      "ERR2683277.8314686 read_1 GCCCAGCGCCCCTGCTATGACTGGATCATCTACAACACGACCCCAGAGCACGAGGCCATGCAGTGGTGCTACCTCCACCCCCGGGACGGGCTCATGCCCATGTACCTCAACATCCAATCCCACCTCTACCGGGTCCTGGACAATTTCCAC read_2 AGGTCCAGGGTGCGCGCTTGCGAGTGCGGGGGCATACACACCAGTCTGCATCCTGTGGCTCTGGATGAAACCGAGGAGCTGAGTCCAGACCACCGGGTGATGGGCTGGACCGGGACGGAGTTCCGCACCTCCGGGGCGGACAGAGATGAC\n",
      "SRR12204851.141885562 read_1 GATGGATTGGGTGATGTGTTCAATTGGGAGTTTCTCAGATCCGAGGGCCAATATGGAGTCTGAGTAGTGGAGCATGATTTCATCATGGACGTCGGCGAGTTTTGCCTGGGGGTCGGTTTTGGCCTTGCCGCGGATCCAGTCAAGGAGGCG read_2 GCTGCCCACAAAGTGGCCTCCTCCCTCAACGGCTTCACCGACGTCATCGCCGACATCAAGGATTCCCTCTTCACCCGGGTTTCCGATGCCGTCGAGACCGGCGTTGCCACCTTCCTCACCTGGCTTGTCAAACTCTTTGGCTACCTCCTG\n",
      "SRR14530845.849711 read_1 GGCTTTAACAAAATCGCCCGTCTGCCATGAAGTTTCACCACAATGATCACACTCTGTCTCTTATACACATCTCCGAGCCCACGAGACCCTCTACATGATCT read_2 AGTGTGATCATTGTGGTGAAACTTCATGGCAGACGGGCGATTTTGTTAAAGCCCTGTCTCTTATACACATCTGACGCTGCCGACGAAGGAGGTATCGTGTA\n",
      "SRR8749024.1225113 read_1 AGCCACATTTTCTCCCTAAAAATGGTAAAATACTATAAAAGAGAGGTATTTATAGTGCAAAAGTACAAAAAATATTTGGTTAATTCAAGAAAAAGTCGTAA read_2 TCATCAGACAAAACGGGAGTCAAAATGAAAACGGTTTCGTATTGATTCATACTACTTTAATTAATTAAAATGTTATTATTAAATTTCTTGCTTTTCGCTAA\n",
      "ERR4682844.31683125 read_1 TTTTGCTGTGTATACCACTAAAGAAAAAGCTCAAATTTTATATAAGAAACTTATGGAAAAATATTCTGTAACCTTTATAAGTAGACATGGTTTTGGGGGTCATAATATTTTGTTTTTTTTAACACCACATAGACATAGAGTTTCAGCAATT read_2 TGGCTGCTACAGTATCAACAGCCTGCTGGCAAATGCTTTTTTGATTTTTGCTATCTGCAAAAATTTGGGCATTATAATAGTGCTTTTCATGATGGTTAAAGTGATTTGGCTGATCCTTTTTTTCACATTTTTTGCATTGCAGTGGGTTTTC\n",
      "ERR2683146.33466070 read_1 TTCTTGATGGCAGCAGCACGCGCCTTGTCAGCCTCCTCGTCGTCCTCGTCCTCATCATCGTCGAGGTCGTCGTCGAGGTCTGCGTCGGCCTCTGCAGCCTTCTTGGCAGCTGCTGCAGCCTCCTCCTCTTTCTTCTTCTTAGCTGCAGCC read_2 CTGCCGCTAAGAAGAAGGCCGACGAAGAGGCTGCCGCTAAGAAGAAGGCTGCCGAGGCTGAGCTTGACATTGACGATGATCTGGACGACGACGAAGACGAGGAGGACGACGAAGAGGCTGAGAAGGCCCGCGCCGCCGCTGTCAAGAAGG\n",
      "SRR23800659.646182 read_1 GTTTCCCAGTCACGATCTACGCCTGACTCTACCCCTACCATGCTTGGTCTTACCTTTCTTTTTTTGTAGGAATGGTGCAAGTATCCCATTGATTTCATCACGCAGCACCTTCATCTCACGTTCCATTGCAGTTCTGACAAGGTCAACTACA read_2 CGGGTTTGTTGAAAAAAAAAAAAAAAAAAAAAAAAAAAAAAATTATATTAAAAAATAAAAAAAAAAAAAAAAAAAAAAATAAAATAAAAAAATAAAAAAAAAAAAAAAAAAAAAAAAAAAAAAAAAAAAAAAAAAAAAAAAAAAAAAAAAA\n",
      "ERR2607510.14239343 read_1 TGGCCCTGGCCGTGGCCGTCTGCACGGTCGCCGCGCCTCTGTCGTACATGGCCCTGACCCGGGGACAGCGAGGCAGCTGAGCGTGCGCGCCAAGCTGACCGCGGCCGGCCCCGGACCTTCACCCGGCCCGGCCCTGGCATGCCGAGCCGCA read_2 ATGCGAATAGACGGCAACGGCCAGGACCTTCTTCGCATCATCCTGGCGAAGGGCGTACGGGTCGAGATACCTGACGATCGCGCTGGGAGAGGAAACTCTGGCTAACAAGGCCTACCTCGATGGAATCGACAAACGTTGCAACAGGCTTTCG\n",
      "SRR12204850.47867557 read_1 GCCATAATAAGAATAAAAGGAAACACGTACACCCAAAGTAGTCGGGTCCGCCACAGACTTACGCATTACGACAAGCCACTCACTGGTTTGTGAGCACTTGCTCCGTGGTTAGGATTAGCCGCATTCAGGGGCCGGAGGACTCTCAAGTAGC read_2 TTTGTGGTTGTTCCTACCCCATTTGCCCACTGGGGGGCTTTTTTTCTGGTATTTCGGTACGTTTGTACTGCTTTTTTTTGCCGCTTTTCCAAGCGACTGTAGGAGCACTCCGCAATGTTCATCGGGGTTGGTTAAAACCAGTACCACTACG\n",
      "SRR12204849.77422202 read_1 AGCCACTTCATATTCGGGATATATTTTTAGGGATTTATCTAATAATAATTTTAATTTAATAGGTACAAATGTAGAGAATTCAGTATCCGGACACGTATATAATGCATTGATTTATTATAGATATAATTATTCATTTGATCTTAAACGATGG read_2 GTTTTTAGCTCACCCAGTCATATCACACACAGTGTCACCTTTTATTTTTCTTCCGTAAATAGAATCTATATAAAGTTTTGTAGTGTCTATTCTTACCGTTTTCTCATTACTAAAACTAAACGTTACATGAGGAATAAAAATTCTTGAATGT\n",
      "ERR2683153.1537839 read_1 CAAACAACAAACAGGTTCGGTAGAGATTTTGAAACACACACAAACTCTTGAAAGCATTGGGACCAAAGAGGTAATTGGTGCTTATTCATTATTCTATTACAATGATGGAAGTTTCGAAGATGGAGATATTATGAACATCGAGCAAATCAA read_2 AAAATTGTATAGTTTTTCAATTCTGCTTTTAAAATGTTTGGTTGTTGATGCTCCCATAAAATTTTAGGTTTAAAATCCGATAAGACTTGTAGGCCTGATCGGGTGAGTGTTTTGTTAGAAAGTCGGGTTATCGGTTGACGTTGGGTGGGT\n",
      "ERR2683243.18902889 read_1 AAATATATTTGTTGTTTTAAATTATCTTTTAATGTTAAAGGTAAATCCAAATCATCAACATCTGCTATATATTTATTTCTGATATTATTTACAATGTTTGTTAGATATTCATTTTCTGGATCTTCATTCTCTGGTATTTGCGAAATAGCA read_2 ATATGGAGAAGTACAGTCAAATTGATAAAATTTTAATTTCTGAAGAGATCTCATTTAAAGAAGCATTGCGACAATCAAAGAATATAAAAGATTTTCAGGAAATAGTATCAAAGAGAAATATTACAACACGTGCAGAATCATTACCAAACA\n",
      "SRR23800648.5518634 read_1 AGTGGAGGCATTTTAGGGCGTAGAGTTTGGGAGCCAGGAAGACGGACTCGGGTGAATAAGCGTCGGCGCCACACTGTGCACACACGGTTTCGCACTCCACTAACCAGGCGAGCTCAGGGTGTTTTGGGTCAAAAACCAGATTGCCTCCGTG read_2 GTTTCCCAGTCACTCTAAGTGCTGAAGTTATGCCCACCTTTCAACGCGCATACTCACCCGAACAGCTGGCTGTCGTCCACAGCGATGCGGAAGAAAGTGATGAAGAGCCCGGACACGCCCCCTTTTATACACCCACGCACAAGCCCAATGA\n",
      "M_ERR1414241.14998099 TCTTCTTCTTCATCTAATGAACTACCAAGGGAGTTCCCATTTGGAGCTGTTGAAGCACCACCAAATGCAGATAGATTATTATTGTTATTTTTATTGTTAACACTATTATCTTCATCTTCATCGTCATCATCATTG\n",
      "SRR12204734.40625265 read_1 GGTTGGTGTTGAGGTAGAGCCTATCATAGCAGTCAAGGACAGTGTGGTAGGTGCGGTGAGCAGCGGAGTGAGCCACAGCAGCGAGCACAGATCGTGAAACCCGAGTAGCAGCCATGACTCCGACATGAAAGAATTGGAAATGAAACTACC read_2 GAAGACACCGAGAAAGCAGATCACGAGACAATTGTCCGTACAACATTCATCAACAAACAACGTCTATCATCCTTAAGGATAGACCAGGCGTGTGAACTCACGTTGGGCAACTAGTGGTTTAAATGTGCGATAACACTCACGGAAGCTGAG\n"
     ]
    }
   ],
   "source": [
    "# take the read id. split it in two. search the file SRR12204734.combined.fastq in the hvfastqs directory for the read id. Return the row below the row that matches the read id. Return the sequence from that row.\n",
    "\n",
    "\n",
    "def search_fastq(entry):\n",
    "        file_id, read_id = entry.split(\".\")\n",
    "        if \"_\" in file_id:\n",
    "            file_id = file_id.split(\"_\", 1)[1]\n",
    "        with open(f'hvfastqs/{file_id}.combined.fastq') as f1:\n",
    "            for line in f1:\n",
    "                if read_id in line:\n",
    "                    return entry, file_id, \"combined\", next(f1).strip()\n",
    "        with open(f'hvfastqs/{file_id}.pair1.fastq') as f2, open(f'hvfastqs/{file_id}.pair2.fastq') as f3:\n",
    "            for line2, line3 in zip(f2, f3):\n",
    "                if read_id in line2:\n",
    "                    return entry, file_id, \"paired\", str(next(f2).strip()), str(next(f3).strip())\n",
    "\n",
    "score_5_sequences = []\n",
    "\n",
    "for entry in alignment_score_5_sub_sample[\"read_id\"]:\n",
    "    result = search_fastq(entry)\n",
    "    if result is not None:\n",
    "        score_5_sequences.append(result)\n",
    "        if result[2] == \"combined\":\n",
    "            print(entry, result[3])\n",
    "        else:\n",
    "            print(entry, \"read_1\", result[3], \"read_2\", result[4])\n",
    "\n",
    "\n",
    "    \n",
    "\n",
    "\n",
    "    "
   ]
  },
  {
   "cell_type": "code",
   "execution_count": 47,
   "metadata": {},
   "outputs": [
    {
     "name": "stdout",
     "output_type": "stream",
     "text": [
      "read_1 GCGTGATTTACAATCAAAAATAGGATCAGTCATTTCGTCCATTGAGTGGTACTTACGGTCTATGGAACTATCAGATGACATTAAATCAGATATTGAACAACAACTCAATTCAATAGATCATATTAATCCAGTTAACGCTTTTGACGATTTT read_2 GCCATTTAGGTTTTTGACAGTGTTAGCTTTTAACTATTGTGCTCATAGAGGGTTACGTGAAGATGGTAATATGCTATGTTTACTCATAGGTATAAGTATAATTACTTTGCTGCAACAATCCTTTAAACATAATAAAAATTCTATCATAATC\n",
      "read_1 GCGTGATTTACAATCAAAAATAGGATCAGTCATTTCGTCCATTGAGTGGTACTTACGGTCTATGGAACTATCAGATGACATTAAGTCAGATATTGAACAACAACTCAATTCAATAGATCATATTAATCCAGTTAACGCTTTTGACGATTTT read_2 TAGCCATTTAGGTTTTTGACAGTGTTAGCTTTTAACTATTGTGCTCATAGAGGGTTCCGTGAAGATGGTAATATGCTATGTTTACTCATAGGTATAAGTATAATTACTTTGCTGCAACAATCCTTTAAACATAATAAAAATTCTATCATAA\n",
      "read_1 ATTCACACAACGGGGATCATCACATACACTCAATGCCGTATTGACATCGGTCAGCCACTTCAGAGCGATACAATCTTCTGAAGGGCGTGCTAACAAGTCAGACACATAGGGGATACTCTTCAGAAGTTCCCAAACCCACATAATGGGTTT read_2 CTAAAAAGCACACAAAACCAAAGATTTTCGACAAATACCAAACAAAAACAAAAACCTCCACAAAAATGTGTAAAAACCTAAAAAACACAAAAATTTGATTTTTTAAAATAATAAAAAAATAAACAAATTTTATGAAAATTTATCACAACC\n",
      "read_1 ACTCTGAACTCACTTTCCATCCAACTTTTGTTGTTTTTGTGGTAATAAACCTGTCTCTTATACACATCTCCGAGCCCACGAGACACAACTACTGATCTCGT read_2 GTTTATTACCACAAAAACAACAAAAGTTGGATGGAAAGTGAGTTCAGAGTCTGTCTCTTATACACATCTGACGCTGCCGACGATGTGATAACTGTGTAGAT\n",
      "read_1 TGCAAGGAAAGTAAACGAAAACATGAATTCTCTTCAGAATGTTATTTCTCAACAACAAGCTCATATTAATGAATTACAAATATATAATAATAAACTAGAGCGTGATTTACAATCAAAACTAGGATCAGTCATTTCGTCCATTGAGTGGTAC read_2 GCCATTTAGGTTTTTGACAGTGTTAGCTTTTAACTATTGTGCTCATAGAGGGTTACGTGAAGATGGTAATATGCTATGTTTACTCATAGGTATAAGTATAATTACTTTGCTGCAACAATCCTTTAAACATAATAAAAATTCTATCATAATC\n",
      "read_1 CTGCCTTTTGCTTTGCCGAACTCCCCTAGCTTCTTCTCTCTCTTTCCCATCATGTTGTACACACATGTCTCACACTTTCCTTCAAGATGGAGATTCCTTTCCTTGTCAACCAATTCCCAAAATCCACTGTCTTCAACAGCTTCACC read_2 CACGACTCCATTTGGACAACAGCGCGTCTTCAAAGAGAAAGTGGACACGAGAACCCAAGAACCAAAAGAAGGCACGAAAAAACTAATGAAAATCACAGCAGAATGGCTCTGGAAAGAACTAGGAAAGAAAAAGACACCTAGGATGT\n",
      "read_1 CACTACAGTCAATACAAGCACCAAGGTCACGGGGTGTCATGTTTTCAACTTTGTTATAGGCTGTCTCTTATACACATCTCCGAGCCCACGAGACATTCCATAAGATCTCGTATGCCGTCTTCTGCTTGAAAACAGGGGGGGGGGGGGGGGG read_2 CCTATAACAAAGTTGAAAACATGACACCCCGTGACCTTGGTGCTTGTATTGACTGTAGTGCTGTCTCTTATACACATCTGACGCTGCCGACGACCACCAGGCAGTGTAGATCTCGGTGGGCGCCGGATCATGAGAAACGGGGGGGGGGGGG\n",
      "read_1 ATACACACCGTGCCCTCAGTGATGTTAGCTTGCCAAGGCGCTTCACTCGACGGCCTGTCTCTTATACACATCTCCGAGCCCACGAGACCCTGTAACACATC read_2 GCCTTCGAGTGAAGCGCCTTGGCAAGCTAACATCACTGAGGGCACGGTGTGTATCTGTCTCTTATACACATCTGACGCTGCCGACGAAGTACAACTCGTGT\n",
      "read_1 TTGATATTGCCAAGGGCTTCCAAGCGTTCCATGGCTTCGTAAAAGTCTACCGCAAAGTTGAAGAATTGGGAGTTGCGGGCCGCGACTGTCAGCTCGTCTTGCAAGAGGCGGATTAGCTCCGCCACAGTTTCTCGCACTTCGCGTTCAAAGG read_2 CACGCCGTCACTGAAACCATGCGTCGTCGCCGCGGAGAAATCATCGAACGCTTTGTCGATCGGCTGCCCATTAGGCGTCGCCGCCGACGACCTGTTCCGGCACCCGCGAGTCCCGAGGTGCCTGTTGCAGAGGAGGAAGAACTCATGGA\n",
      "read_1 CAGCGAGTTAATGAAAAGTACAATACTTGGGTTATTAAGGCAAGGAAAGTAAACGAAAACATGAATTCTCTTCAGAATGTTATTTCTCAACAACAAGCTCATATTAATGAATTACAAATATATAATAATAAACTAGAGCGTGATTTACAAT read_2 AGCCATTTAGGTTTTTGACAGTGTTAGCTTTTAACTATTGTGCTCATAGGGGGTTACGTGGAGAGGGTAATATGCTATGTTTACTCATAGGTATAAGTATAATTACTTTGCTGCAACAATCCTTTAAACATAATAAAAATTCTATCATAAT\n",
      "read_1 GCGAGTTAATGAAAAGTACAATAATTGGGTCATTAAGGCAAGGAAAGTAAACGAAAACATGAACTCTCTTCAGAATGTTATTTCGCAACAACAAGCTCATATTAATGAATTACAAATATATAATAATAAACTAGAGCGTGATTTACAATC read_2 TTAGGTTTTTGACAGTGTTAGCTTTTAACTATTGTGCTCATAGAGGGTTACGTGAAGATGGTAATATGCTATGTTTACTCATAGGTATAAGTATAATTACTTTGCTGCAACAATCCTTTAAACATAATAAAAATTCTATCATAATCAGAT\n",
      "read_1 TCACCAACCTATGCATGTGTAACCTGGGAGCCCATCTATGCTGATGAGGGTCTGTCTCTTATACACATCTCCGAGCCCACGAGACCAGCCGCGTAATCTCG read_2 ACCCTCATCAGCATAGATGGGCTCCCAGGTTACACATGCATAGGTTGGTGACTGTCTCTTATACACATCTGACGCTGCCGACGACACGGCTAGTGTGTAGA\n",
      "read_1 CGGTAGCACACCTTGTAATGGTGTTGAAGGTTTTAATTGTTACTTTCCTTTACAATCATATGGCTGTCTCTTATACACATCTCCGAGCCCACGAGACGCCGCACTCTATCTCGTATGCCGTCTTCTGCTTGAAAAAGGGGGGGGGGGGGGG read_2 CCATATGATTGTAAAGGAAAGTAACAATTAAAACCTTCAACACCATTACAAGGTGTGCTACCGCTGTCTCTTATACACATCTGACGCTGCCGACGACGAGGTCGGAGTGTAGATCTCGGTGGTCGCCGGATCGGTCACGGGGGGGGGGGGG\n",
      "GGTCTATGGAACTATCAGATGACATTAAATCAGATATTGAACAACAACTTAATTCAATAGACCATATTAATCCAGTTAACGCTTTTGACGATTTTGAGTCTATTCTTCGTAATTTAATATCTGATTATGATAGAATTTTTATTATGTTTAAAGGATTGTTGCAGCAAAGTAATTATACTTATACCTATGAGTAAACATAGCATATTACCATCTTCACGTAACCCTCTATGAGCACAATAGTTAAAAGCTAACACTGTCAAAAACCTAAATGGCT\n",
      "GGCGACGGCGATAGCGAGAGTACGCACCGTAGCGACGATAACGCGAGTAGCGACGACCATAGCGGCGTCGCCGCTCTGGTACGTCGTCTACTGCGTCGTCGCG\n",
      "read_1 GCAAGGAAAGTAAACGAAAACATGAATTCTCTTCAGAATGTTATTTCTCAACAACAAGCTCATATTAATGAATTACAAATATATAATAATAAACTAGAGCGTGATTTACAATCAAAAATAGGATCAGTCATTTCGTCCATTGAGTGGTACT read_2 GCCATTTAGGTTTTTGACAGTGTTAGCTTTTAACTATTGTGCTCATAGAGGGTTACGTGAAGATGGTAATATGCTATGTTTACTCATAGGTATAAGTATAATTACTTTGCTGCAACAATCCTTTAAACATAATAAAAATTCTATCATAATC\n",
      "read_1 CTTCAGAATGTTATTTCTCAACAACAAGCTCATATTAATGAATTACAAATATATAATAATAAACTAGAGCGTGATTTACAATCAAAAATAGGATCAGTCATTTCGTCCATTGAGTGGTACTTACGGTCTATGGAACTATCAGATGACATTA read_2 CCATTTAGGTTTTTGACAGTGTTAGCTTTTAACTATTGTGCTCATAGAGGGTTACGTGAAGATGGTAATATGCTATGTTTACTCATAGGTATAAGTATAATTACTTTGCTGCAACAATCCTTTAAACATAATAAAAATTCTATCATAATCA\n",
      "GAGCAGAGGCGGCAGTCAAGCCTCTTCTCGTTCCTCATCACGTAGTCGCAACAGTTCAAGAAATTCAACTCTAGGCAGCAGTAGGGGAACTTCTCCTGCTAGAATGGCTGGCAATGGCGGTGATGC\n",
      "ACACAGGTGCCATCAAATTGGATGACAAAGATCCAAATTTCAAAGATCAAGTCGACCTTGTTGATGAGCTGGAGCCAGAGACCGACACACGGGAGCCACTGACTCGGA\n",
      "read_1 GTCTGAAGCATTATCGTTTGTGTTTGTTAGCCACCAGCCATCTCGAGGCCCACCCAGATCAGAAGGCTTTAACTTGAAAACTGCATTTTTACCAACAGTAACATCTAGATGTTTGCGCGCTCCAAGCCCAGACCAACTAGTAGAGGATGG read_2 GACAAAACGGACGCAACAAATATCAATCTAATCAACGTGTCCGTAAAATTGTCAATAAACAACTCAGGAAACAAGGTGTCACAGGACCAAAACCTGCAATTTGTCAAACAGCCACCGCAACACTTGGAACAATTGGATCAAATACCACAG\n"
     ]
    }
   ],
   "source": [
    "def search_fastq(entry):\n",
    "        file_id, read_id = entry.split(\".\")\n",
    "        if \"_\" in file_id:\n",
    "            file_id = file_id.split(\"_\", 1)[1]\n",
    "        with open(f'hvfastqs/{file_id}.combined.fastq') as f1:\n",
    "            for line in f1:\n",
    "                if read_id in line:\n",
    "                    return entry, file_id, \"combined\", next(f1).strip()\n",
    "        with open(f'hvfastqs/{file_id}.pair1.fastq') as f2, open(f'hvfastqs/{file_id}.pair2.fastq') as f3:\n",
    "            for line2, line3 in zip(f2, f3):\n",
    "                if read_id in line2:\n",
    "                    return entry, file_id, \"paired\", str(next(f2).strip()), str(next(f3).strip())\n",
    "\n",
    "score_10_sequences = []\n",
    "\n",
    "for entry in alignment_score_10_sub_sample[\"read_id\"]:\n",
    "    result = search_fastq(entry)\n",
    "    if result is not None:\n",
    "        score_5_sequences.append(result)\n",
    "        if result[2] == \"combined\":\n",
    "            print(result[3])\n",
    "        else:\n",
    "            print(\"read_1\", result[3], \"read_2\", result[4])\n",
    "\n"
   ]
  },
  {
   "cell_type": "markdown",
   "metadata": {},
   "source": [
    "# Cross-checking BowTie2 alignments with Kraken assigments."
   ]
  },
  {
   "cell_type": "code",
   "execution_count": null,
   "metadata": {},
   "outputs": [],
   "source": [
    "# example SSR: SRR14530724 with bioproject PRJNA729801\n",
    "\n"
   ]
  },
  {
   "cell_type": "code",
   "execution_count": 89,
   "metadata": {},
   "outputs": [
    {
     "name": "stdout",
     "output_type": "stream",
     "text": [
      "['SRR14530724', 'SRR14530725', 'SRR14530726', 'SRR14530727', 'SRR14530728', 'SRR14530729', 'SRR14530730', 'SRR14530731', 'SRR14530732', 'SRR14530733', 'SRR14530734', 'SRR14530735', 'SRR14530736', 'SRR14530737', 'SRR14530738', 'SRR14530739', 'SRR14530740', 'SRR14530741', 'SRR14530742', 'SRR14530743', 'SRR14530744', 'SRR14530745', 'SRR14530746', 'SRR14530747', 'SRR14530748', 'SRR14530749', 'SRR14530750', 'SRR14530751', 'SRR14530752', 'SRR14530753', 'SRR14530754', 'SRR14530755', 'SRR14530756', 'SRR14530757', 'SRR14530758', 'SRR14530759', 'SRR14530760', 'SRR14530761', 'SRR14530762', 'SRR14530763', 'SRR14530764', 'SRR14530765', 'SRR14530766', 'SRR14530767', 'SRR14530768', 'SRR14530769', 'SRR14530770', 'SRR14530771', 'SRR14530772', 'SRR14530773', 'SRR14530774', 'SRR14530775', 'SRR14530776', 'SRR14530777', 'SRR14530778', 'SRR14530779', 'SRR14530780', 'SRR14530781', 'SRR14530782', 'SRR14530783', 'SRR14530784', 'SRR14530785', 'SRR14530786', 'SRR14530787', 'SRR14530788', 'SRR14530789', 'SRR14530790', 'SRR14530791', 'SRR14530792', 'SRR14530793', 'SRR14530794', 'SRR14530795', 'SRR14530796', 'SRR14530797', 'SRR14530798', 'SRR14530799', 'SRR14530800', 'SRR14530801', 'SRR14530802', 'SRR14530803', 'SRR14530804', 'SRR14530805', 'SRR14530806', 'SRR14530807', 'SRR14530808', 'SRR14530809', 'SRR14530810', 'SRR14530811', 'SRR14530812', 'SRR14530813', 'SRR14530814', 'SRR14530815', 'SRR14530816', 'SRR14530817', 'SRR14530818', 'SRR14530819', 'SRR14530820', 'SRR14530821', 'SRR14530822', 'SRR14530823', 'SRR14530824', 'SRR14530825', 'SRR14530826', 'SRR14530827', 'SRR14530828', 'SRR14530829', 'SRR14530830', 'SRR14530831', 'SRR14530832', 'SRR14530833', 'SRR14530834', 'SRR14530835', 'SRR14530836', 'SRR14530837', 'SRR14530838', 'SRR14530839', 'SRR14530840', 'SRR14530841', 'SRR14530842', 'SRR14530843', 'SRR14530844', 'SRR14530845', 'SRR14530846', 'SRR14530847', 'SRR14530848', 'SRR14530849', 'SRR14530850', 'SRR14530851', 'SRR14530852', 'SRR14530853', 'SRR14530854', 'SRR14530855', 'SRR14530856', 'SRR14530857', 'SRR14530858', 'SRR14530859', 'SRR14530860', 'SRR14530861', 'SRR14530862', 'SRR14530863', 'SRR14530864', 'SRR14530865', 'SRR14530866', 'SRR14530867', 'SRR14530868', 'SRR14530869', 'SRR14530870', 'SRR14530871', 'SRR14530872', 'SRR14530873', 'SRR14530874', 'SRR14530875', 'SRR14530876', 'SRR14530877', 'SRR14530878', 'SRR14530879', 'SRR14530880', 'SRR14530881', 'SRR14530882', 'SRR14530883', 'SRR14530884', 'SRR14530885', 'SRR14530886', 'SRR14530887', 'SRR14530888', 'SRR14530889', 'SRR14530890', 'SRR14530891', 'SRR14530892', 'SRR14530893', 'SRR14530894', 'SRR14530895', 'SRR14530896', 'SRR14530897', 'SRR14530898', 'SRR14530899', 'SRR14530900', 'SRR14530901', 'SRR14530902', 'SRR14530903', 'SRR18340958', 'SRR18340959', 'SRR18340960', 'SRR18340961', 'SRR18340962', 'SRR18340963', 'SRR18340964', 'SRR18340965', 'SRR18340966', 'SRR18340967', 'SRR18340968', 'SRR18340969', 'SRR18340970', 'SRR18340971', 'SRR18340972', 'SRR18340973', 'SRR18340974', 'SRR18340975', 'SRR18340976', 'SRR18340977', 'SRR18340978', 'SRR18340979', 'SRR18340980', 'SRR18340981', 'SRR18340982', 'SRR18340983', 'SRR18340984', 'SRR18340985', 'SRR18340986', 'SRR18340987', 'SRR18340988', 'SRR18340989', 'SRR18340990', 'SRR18340991', 'SRR18340992', 'SRR18340993', 'SRR18340994', 'SRR18340995', 'SRR18340996', 'SRR18340997', 'SRR18340998', 'SRR18340999', 'SRR18341000', 'SRR18341001', 'SRR18341002', 'SRR18341003', 'SRR18341004', 'SRR18341005', 'SRR18341006', 'SRR18341007', 'SRR18341008', 'SRR18341009', 'SRR18341010', 'SRR18341011', 'SRR18341012', 'SRR18341013', 'SRR18341014', 'SRR18341015', 'SRR18341016', 'SRR18341017', 'SRR18341018', 'SRR18341019', 'SRR18341020', 'SRR18341021', 'SRR18341022', 'SRR18341023', 'SRR18341024', 'SRR18341025', 'SRR18341026', 'SRR18341027', 'SRR18341028', 'SRR18341029', 'SRR18341030', 'SRR18341031', 'SRR18341032', 'SRR18341033', 'SRR18341034', 'SRR18341035', 'SRR18341036', 'SRR18341037', 'SRR18341038', 'SRR18341039', 'SRR18341040', 'SRR18341041', 'SRR18341042', 'SRR18341043', 'SRR18341044', 'SRR18341045', 'SRR18341046', 'SRR18341047', 'SRR18341048', 'SRR18341049', 'SRR18341050', 'SRR18341051', 'SRR18341052', 'SRR18341053', 'SRR18341054', 'SRR18341055', 'SRR18341056', 'SRR18341057', 'SRR18341058', 'SRR18341059', 'SRR18341060', 'SRR18341061', 'SRR18341062', 'SRR18341063', 'SRR18341064', 'SRR18341065', 'SRR18341066', 'SRR18341067', 'SRR18341068', 'SRR18341069', 'SRR18341070', 'SRR18341071', 'SRR18341072', 'SRR18341073', 'SRR18341074', 'SRR18341075', 'SRR18341076', 'SRR18341077', 'SRR18341078', 'SRR18341079', 'SRR18341080', 'SRR18341081', 'SRR18341082', 'SRR18341083', 'SRR18341084', 'SRR18341085', 'SRR18341086', 'SRR18341087', 'SRR18341088', 'SRR18341089', 'SRR18341090', 'SRR18341091', 'SRR18341092', 'SRR18341093', 'SRR18341094', 'SRR18341095', 'SRR18341096', 'SRR18341097', 'SRR18341098', 'SRR18341099', 'SRR18341100', 'SRR18341101', 'SRR18341102', 'SRR18341103', 'SRR18341104', 'SRR18341105', 'SRR18341106', 'SRR18341107', 'SRR18341108', 'SRR18341109', 'SRR18341110', 'SRR18341111', 'SRR18341112', 'SRR18341113', 'SRR18341114', 'SRR18341115', 'SRR18341116', 'SRR18341117', 'SRR18341118', 'SRR18341119', 'SRR18341120', 'SRR18341121', 'SRR18341122', 'SRR18341123', 'SRR18341124', 'SRR18341125', 'SRR18341126', 'SRR18341127', 'SRR18341128', 'SRR18341129', 'SRR18341130', 'SRR18341131', 'SRR18341132', 'SRR18341133', 'SRR18341134', 'SRR18341135', 'SRR18341136', 'SRR18341137', 'SRR21452135', 'SRR21452136', 'SRR21452137']\n"
     ]
    }
   ],
   "source": [
    "brinch_samples = []\n",
    "for study in studies:\n",
    "    if study not in [\n",
    "        \"Brinch 2020\",  # unpublished data\n",
    "    ]:\n",
    "        continue\n",
    "    \n",
    "    for bioproject in metadata_papers[study][\"projects\"]:\n",
    "        samples = metadata_bioprojects[bioproject]\n",
    "\n",
    "        # set all samples to strin type\n",
    "        samples = [str(sample) for sample in samples]\n",
    "        brinch_samples.extend(samples)\n",
    "\n",
    "\n",
    "rothman_samples = []\n",
    "for study in studies:\n",
    "    if study not in [\n",
    "        \"Rothman 2021\",  # unpublished data\n",
    "    ]:\n",
    "        continue\n",
    "    \n",
    "    for bioproject in metadata_papers[study][\"projects\"]:\n",
    "        samples = metadata_bioprojects[bioproject]\n",
    "\n",
    "        # set all samples to strin type\n",
    "        samples = [str(sample) for sample in samples]\n",
    "        rothman_samples.extend(samples)\n",
    "\n",
    "print(rothman_samples)\n",
    "\n",
    "\n",
    "\n",
    "spurbeck_samples = []\n",
    "for study in studies:\n",
    "    if study == \"Spurbeck 2023\":\n",
    "        for bioproject in metadata_papers[study][\"projects\"]:\n",
    "            samples = metadata_bioprojects[bioproject]\n",
    "\n",
    "            # set all samples to strin type\n",
    "            samples = [str(sample) for sample in samples]\n",
    "            spurbeck_samples.extend(samples)\n"
   ]
  },
  {
   "cell_type": "code",
   "execution_count": 74,
   "metadata": {},
   "outputs": [
    {
     "name": "stdout",
     "output_type": "stream",
     "text": [
      "['SRR23083716', 'SRR23083718', 'SRR23083720', 'SRR23083722', 'SRR23083725', 'SRR23083727', 'SRR23083729', 'SRR23083731', 'SRR23083733', 'SRR23083734', 'SRR23083736', 'SRR23083738', 'SRR23083740', 'SRR23083742', 'SRR23083744', 'SRR23083747', 'SRR23083749', 'SRR23083751', 'SRR23083753', 'SRR23083755', 'SRR23083756', 'SRR23083758', 'SRR23083760', 'SRR23083762', 'SRR23083764', 'SRR23083766', 'SRR23083769', 'SRR23083771', 'SRR23083773', 'SRR23083775', 'SRR23083778', 'SRR23083780', 'SRR23083782', 'SRR23083784', 'SRR23083786', 'SRR23083787', 'SRR23083789', 'SRR23083790', 'SRR23083792', 'SRR23083794', 'SRR23083795', 'SRR23083797', 'SRR23083798', 'SRR23083799', 'SRR23083801', 'SRR23083804', 'SRR23083806', 'SRR23083808', 'SRR23083810', 'SRR23083813', 'SRR23083818', 'SRR23083820', 'SRR23083822', 'SRR23083823', 'SRR23083825']\n"
     ]
    }
   ],
   "source": [
    "print(spurbeck_samples)"
   ]
  },
  {
   "cell_type": "code",
   "execution_count": 90,
   "metadata": {},
   "outputs": [
    {
     "name": "stdout",
     "output_type": "stream",
     "text": [
      "16370\n",
      "33194\n",
      "9964\n",
      "1706756\n"
     ]
    }
   ],
   "source": [
    "# from df, drop all rows that do not have a sample_id, present in brinch_samples\n",
    "\n",
    "df_brinch = df[df[\"sample_id\"].isin(brinch_samples)]\n",
    "print(df_brinch[df_brinch[\"reference_name\"] == \"No Alignment\"].shape[0])\n",
    "\n",
    "print(df_brinch.shape[0])\n",
    "\n",
    "df_rothman = df[df[\"sample_id\"].isin(rothman_samples)]\n",
    "\n",
    "print(df_rothman[df_rothman[\"reference_name\"] == \"No Alignment\"].shape[0])\n",
    "\n",
    "print(df_rothman.shape[0])\n",
    "\n",
    "df_spurbeck = df[df[\"sample_id\"].isin(spurbeck_samples)]\n",
    "\n"
   ]
  },
  {
   "cell_type": "code",
   "execution_count": 59,
   "metadata": {},
   "outputs": [
    {
     "name": "stdout",
     "output_type": "stream",
     "text": [
      "(17716, 5)\n"
     ]
    }
   ],
   "source": [
    "# size of df\n",
    "print(df.shape)"
   ]
  },
  {
   "cell_type": "code",
   "execution_count": 7,
   "metadata": {},
   "outputs": [
    {
     "data": {
      "image/png": "[encoded data removed]",
      "text/plain": [
       "<Figure size 640x480 with 1 Axes>"
      ]
     },
     "metadata": {},
     "output_type": "display_data"
    },
    {
     "data": {
      "text/plain": [
       "<Figure size 640x480 with 0 Axes>"
      ]
     },
     "metadata": {},
     "output_type": "display_data"
    }
   ],
   "source": [
    "plt.hist(list(read_score_all.values()), bins=100)\n",
    "plt.title(\"Length-adjusted alignment scores\")\n",
    "plt.show()\n",
    "plt.clf()"
   ]
  },
  {
   "cell_type": "markdown",
   "metadata": {},
   "source": [
    "## Cross-check BowTie2 results with Jeff’s original validation results.\n",
    "\n",
    "Exluded reads can be found in `excluded_read_ids.txt`. Let's look at their alignment scores."
   ]
  },
  {
   "cell_type": "code",
   "execution_count": 8,
   "metadata": {},
   "outputs": [],
   "source": [
    "excluded_read_id_scores = {}\n",
    "with open(\"excluded_read_ids.txt\") as inf:\n",
    "    for line in inf:\n",
    "        read_id = line.strip()\n",
    "        alignment_score = read_score_dict[read_id]\n",
    "        excluded_read_id_scores[read_id] = alignment_score\n",
    "\n",
    "        "
   ]
  },
  {
   "cell_type": "code",
   "execution_count": 72,
   "metadata": {},
   "outputs": [
    {
     "name": "stdout",
     "output_type": "stream",
     "text": [
      "ERR3563089.9818664\n"
     ]
    }
   ],
   "source": [
    "for read_id, alignment_score in excluded_read_id_scores.items():\n",
    "    if alignment_score > 7:\n",
    "        print(read_id)"
   ]
  },
  {
   "cell_type": "code",
   "execution_count": 10,
   "metadata": {},
   "outputs": [
    {
     "data": {
      "image/png": "[encoded data removed]",
      "text/plain": [
       "<Figure size 640x480 with 1 Axes>"
      ]
     },
     "metadata": {},
     "output_type": "display_data"
    },
    {
     "data": {
      "text/plain": [
       "<Figure size 640x480 with 0 Axes>"
      ]
     },
     "metadata": {},
     "output_type": "display_data"
    }
   ],
   "source": [
    "plt.hist(list(excluded_read_id_scores.values()), bins=10)\n",
    "plt.title(\"Length-adjusted alignment scores of Jeff's exluded reads\")\n",
    "plt.show()\n",
    "plt.clf()"
   ]
  },
  {
   "cell_type": "markdown",
   "metadata": {},
   "source": [
    "## Check alignment scores of target study reads"
   ]
  },
  {
   "cell_type": "code",
   "execution_count": 11,
   "metadata": {},
   "outputs": [],
   "source": [
    "\n",
    "target_samples = []\n",
    "for study in studies:\n",
    "    if study not in [\n",
    "        \"Brinch 2020\",  # unpublished data\n",
    "        \"Crits-Christoph 2021\",  # untreated undigested sludge\n",
    "        \"Rothman 2021\",\n",
    "        \"Spurbeck 2023\",\n",
    "    ]:\n",
    "        continue\n",
    "    \n",
    "    for bioproject in metadata_papers[study][\"projects\"]:\n",
    "        samples = metadata_bioprojects[bioproject]\n",
    "\n",
    "        if study == \"Bengtsson-Palme 2016\":\n",
    "            samples = [\n",
    "                sample\n",
    "                for sample in samples\n",
    "                if metadata_samples[sample][\"fine_location\"].startswith(\"Inlet\")\n",
    "            ]\n",
    "\n",
    "        if study == \"Ng 2019\":\n",
    "            samples = [\n",
    "                sample\n",
    "                for sample in samples\n",
    "                if metadata_samples[sample][\"fine_location\"] == \"Influent\"\n",
    "            ]\n",
    "\n",
    "        # set all samples to strin type\n",
    "        samples = [str(sample) for sample in samples]\n",
    "        target_samples.extend(samples)"
   ]
  },
  {
   "cell_type": "code",
   "execution_count": 12,
   "metadata": {},
   "outputs": [],
   "source": [
    "read_score_dict = {}\n",
    "\n",
    "sam_target_files = []\n",
    "missing_samples = set()\n",
    "\n",
    "hvsams_directory_path = \"hvsams\"\n",
    "\n",
    "n_failed_alignments = 0\n",
    "\n",
    "for filename in os.listdir(hvsams_directory_path):\n",
    "    if filename.endswith(\".sam\"):\n",
    "        sample_id, _, = filename.split(\".\")\n",
    "        sample_id = str(sample_id)\n",
    "        if sample_id not in target_samples:\n",
    "            missing_samples.add(sample_id)\n",
    "            continue\n",
    "        sam_target_files.append(sample_id)\n",
    "        with open(hvsams_directory_path + \"/\" + filename) as inf:\n",
    "            for line in inf:\n",
    "                if line.startswith(\"@\"):\n",
    "                    continue\n",
    "                else:\n",
    "                    line_split = line.split(\"\\t\")\n",
    "\n",
    "                    read_id = line_split[0]\n",
    "                    reference_sequence = str(line_split[2])\n",
    "                    if reference_sequence == \"*\":\n",
    "                        alignment_score = 0 # no aligment found\n",
    "                        read_score_dict[read_id] = alignment_score\n",
    "                        n_failed_alignments += 1\n",
    "                        continue\n",
    "                \n",
    "                    read_length = len(line_split[9])\n",
    "\n",
    "                    optional_fields_dict = {}\n",
    "                    for field in line_split[11:]:\n",
    "                        key, _, value = field.split(\":\")\n",
    "                        optional_fields_dict[key] = value\n",
    "\n",
    "                    if \"AS\" in optional_fields_dict:\n",
    "                        alignment_score = int(optional_fields_dict[\"AS\"])\n",
    "                        read_score_dict[read_id] = alignment_score / sqrt(read_length)\n",
    "\n",
    "                    else: # no aligment performed\n",
    "                        alignment_score = 0\n",
    "                        n_failed_alignments += 1\n",
    "                        read_score_dict[read_id] = alignment_score"
   ]
  },
  {
   "cell_type": "markdown",
   "metadata": {},
   "source": [
    "Some target samples are missing in the SAM files. This happens, because some samples have no human reads; hence they produce no `{sample_id}.hvreads.json`file"
   ]
  },
  {
   "cell_type": "code",
   "execution_count": 13,
   "metadata": {},
   "outputs": [
    {
     "data": {
      "image/png": "[encoded data removed]",
      "text/plain": [
       "<Figure size 640x480 with 1 Axes>"
      ]
     },
     "metadata": {},
     "output_type": "display_data"
    },
    {
     "data": {
      "text/plain": [
       "<Figure size 640x480 with 0 Axes>"
      ]
     },
     "metadata": {},
     "output_type": "display_data"
    }
   ],
   "source": [
    "plt.hist(list(read_score_dict.values()), bins=100)\n",
    "plt.title(\"Length-adjusted alignment scores of reads in target study samples\")\n",
    "plt.show()\n",
    "plt.clf()"
   ]
  },
  {
   "cell_type": "code",
   "execution_count": 15,
   "metadata": {},
   "outputs": [],
   "source": [
    "reference_read_score = []\n",
    "\n",
    "\n",
    "hvsams_directory_path = \"hvsams\"\n",
    "\n",
    "n_failed_alignments = 0\n",
    "\n",
    "for filename in os.listdir(hvsams_directory_path):\n",
    "    if filename.endswith(\".sam\"):\n",
    "        sample_id, _, = filename.split(\".\")\n",
    "        sample_id = str(sample_id)\n",
    "        if sample_id not in target_samples:\n",
    "            missing_samples.add(sample_id)\n",
    "            continue\n",
    "\n",
    "        with open(hvsams_directory_path + \"/\" + filename) as inf:\n",
    "            for line in inf:\n",
    "                if line.startswith(\"@\"):\n",
    "                    continue\n",
    "                else:\n",
    "                    line_split = line.split(\"\\t\")\n",
    "\n",
    "                    read_id = line_split[0]\n",
    "                    reference_sequence = str(line_split[2])\n",
    "\n",
    "\n",
    "\n",
    "                    if reference_sequence == \"*\":\n",
    "                        alignment_score = 0 # no aligment found\n",
    "                        read_score_dict[read_id] = alignment_score\n",
    "                        reference_read_score.append([reference_sequence, read_id, alignment_score])\n",
    "                        \n",
    "                        continue\n",
    "                \n",
    "                    read_length = len(line_split[9])\n",
    "\n",
    "                    optional_fields_dict = {}\n",
    "                    for field in line_split[11:]:\n",
    "                        key, _, value = field.split(\":\")\n",
    "                        optional_fields_dict[key] = value\n",
    "\n",
    "                    if \"AS\" in optional_fields_dict:\n",
    "                        alignment_score = int(optional_fields_dict[\"AS\"])\n",
    "                        length_adj_alignment_score = alignment_score / sqrt(read_length)\n",
    "                        reference_read_score.append([reference_sequence, read_id, length_adj_alignment_score])\n",
    "\n",
    "                    else: # no aligment performed\n",
    "                        alignment_score = 0\n",
    "                        \n",
    "                        reference_read_score.append([reference_sequence, read_id, alignment_score])\n",
    "                        "
   ]
  },
  {
   "cell_type": "code",
   "execution_count": null,
   "metadata": {},
   "outputs": [],
   "source": [
    "refseq_directory_path = \"raw-genomes\"\n",
    "\n",
    "refseq_id_and_names = {}\n",
    "\n",
    "for filename in os.listdir(refseq_directory_path):\n",
    "    with open(os.path.join(refseq_directory_path, filename)) as inf:\n",
    "        for line in inf:\n",
    "            if line.startswith(\">\"):\n",
    "                identifier, description = line[1:].split(\" \", 1)\n",
    "                identifier = str(identifier.strip())\n",
    "                name = description.split(\",\", 1)[0]\n",
    "                refseq_id_and_names[identifier] = name.strip()\n",
    "            else:\n",
    "                continue"
   ]
  },
  {
   "cell_type": "code",
   "execution_count": 20,
   "metadata": {},
   "outputs": [],
   "source": [
    "df = pd.DataFrame(reference_read_score, columns =['reference_id', 'read_id', 'alignment_score'])"
   ]
  },
  {
   "cell_type": "code",
   "execution_count": 21,
   "metadata": {},
   "outputs": [],
   "source": [
    "# add a column with the name of the reference sequence\n",
    "df['reference_name'] = df['reference_id'].map(refseq_id_and_names)"
   ]
  },
  {
   "cell_type": "code",
   "execution_count": 25,
   "metadata": {},
   "outputs": [
    {
     "data": {
      "text/plain": [
       "142          SRR18341114.10472838\n",
       "143          SRR18341114.10472838\n",
       "144          SRR18341114.10560687\n",
       "145          SRR18341114.10560687\n",
       "146          SRR18341114.10667381\n",
       "                    ...          \n",
       "1951178    M_SRR18341119.31579725\n",
       "1951497    M_SRR18341119.39376495\n",
       "1951499    M_SRR18341119.39405662\n",
       "1951764    M_SRR18341119.31010563\n",
       "1952308    M_SRR18341119.24554728\n",
       "Name: read_id, Length: 1694955, dtype: object"
      ]
     },
     "execution_count": 25,
     "metadata": {},
     "output_type": "execute_result"
    }
   ],
   "source": [
    "df[df['reference_id'] == 'NC_045512.2']['read_id']"
   ]
  },
  {
   "cell_type": "code",
   "execution_count": 30,
   "metadata": {},
   "outputs": [],
   "source": [
    "bad_covid_reads = []\n",
    "good_covid_reads = []\n",
    "for reference_id, read_id, score in reference_read_score:\n",
    "    if reference_id == 'NC_045512.2':\n",
    "        if score < 7:\n",
    "            bad_covid_reads.append(read_id)\n",
    "        else:    \n",
    "            good_covid_reads.append(read_id)"
   ]
  },
  {
   "cell_type": "code",
   "execution_count": 33,
   "metadata": {},
   "outputs": [
    {
     "name": "stdout",
     "output_type": "stream",
     "text": [
      "148737\n",
      "1546218\n",
      "1952373\n"
     ]
    }
   ],
   "source": [
    "print(len(bad_covid_reads))\n",
    "print(len(good_covid_reads))\n",
    "\n",
    "\n",
    "print(len(reference_read_score))"
   ]
  },
  {
   "cell_type": "code",
   "execution_count": null,
   "metadata": {},
   "outputs": [
    {
     "name": "stdout",
     "output_type": "stream",
     "text": [
      "{'Severe acute respiratory syndrome coronavirus 2 isolate Wuhan-Hu-1': 150745, 'No Alignment': 28812, 'Astrovirus MLB1': 4016, 'Macacine herpesvirus 1': 2139, 'Influenza A virus (A/Puerto Rico/8/1934(H1N1)) segment 6': 1384, 'Human coronavirus OC43 strain ATCC VR-759': 1229, 'Norovirus GII': 968, 'Human bocavirus 2c PK isolate PK-5510': 820, 'SARS coronavirus Tor2': 517, 'Astrovirus MLB2': 504, 'Norovirus GII.2 strain Env/CHN/2016/GII.P16-GII.2/BJSMQ': 500, 'Macacine alphaherpesvirus 1 isolate KQ': 325, 'Human adenovirus C': 316, 'Human adenovirus type 1': 308, 'Human adenovirus F': 297, 'Human adenovirus 5': 291, 'Encephalomyocarditis virus': 274, 'Human bocavirus 3': 264, 'Papiine herpesvirus 2': 247, 'Human adenovirus E': 237, 'Human feces pecovirus strain PeCV-NI': 220, 'Norovirus GII.17': 220, 'Human bocavirus 4 NI strain HBoV4-NI-385': 220, 'Hudisavirus sp. isolate P22': 182, 'Human immunodeficiency virus 2': 175, 'Astrovirus MLB3 isolate MLB3/human/Vellore/26564/2004': 174, 'Norovirus GII/Hu/JP/2007/GII.P15_GII.15/Sapporo/HK299': 170, 'Human herpesvirus 1 strain 17': 137, 'Chimpanzee adenovirus Y25': 126, 'Human herpesvirus 8 strain GK18': 118, 'Human picobirnavirus RNA segment 2': 114, 'Simian adenovirus 25': 94, 'JC polyomavirus': 91, 'Parvovirus NIH-CQV putative 15-kDa protein': 83, 'Husavirus sp. isolate 16370_59': 78, 'Norovirus GI/Hu/JP/2007/GI.P3_GI.3/Shimizu/KK2866': 71, 'Yaba-like disease virus': 67, 'BK polyomavirus': 64, 'Human fecal virus Jorvi2': 60, 'Human picobirnavirus RNA segment 1': 59, 'Molluscum contagiosum virus subtype 1': 57, 'Influenza A virus (A/Puerto Rico/8/1934(H1N1)) segment 7': 54, 'Merkel cell polyomavirus isolate R17b': 49, 'Yaba monkey tumor virus': 47, 'Norovirus GII nonstructural polyprotein (ORF1)': 46, 'Norovirus GII.P7_GII.6': 44, 'Human adenovirus D': 42, 'Vesicular stomatitis Indiana virus': 41, 'Human herpesvirus 5 strain Merlin': 39, 'Human papillomavirus type 41': 38, 'Yellow fever virus': 38, 'Macacine alphaherpesvirus 1 isolate 8100812': 35, 'Cercopithecine herpesvirus 2': 35, 'Papio ursinus cytomegalovirus isolate OCOM4-52': 30, 'Norovirus GIV genotype GIV.2 nonstructural polyprotein (ORF1)': 29, 'Orf virus': 29, 'Cercopithecine herpesvirus 5 strain 2715': 29, 'Hom-1 vesivirus': 29, 'Myotis gammaherpesvirus 8 strain My-HV8/Myotis velifer incautus/USA/FCGHV/2011': 28, 'MSSI2.225 virus complete sequence': 28, 'Human astrovirus': 26, 'Zika virus isolate ZIKV/H. sapiens/Brazil/Natal/2015': 24, 'Human immunodeficiency virus 1': 21, 'Human mastadenovirus A': 20, 'Titi monkey adenovirus ECC-2011': 20, 'Vesicular stomatitis Indiana virus strain 98COE': 20, 'Norovirus GI strain Hu/BD/2011/GI.7[PNA2]/Dhaka1882': 19, 'Human papillomavirus type 50': 19, 'Human papillomavirus type 34': 18, 'KI polyomavirus Stockholm 60': 18, 'Adeno-associated virus - 2': 17, 'Gemycircularvirus HV-GcV1': 17, 'Norovirus GIV strain Hu/US/2016/GIV.NA1[PNA1]/WI7002': 17, 'Bat mastadenovirus WIV9': 16, 'Cowpox virus': 16, 'Hepatitis E virus rat/R63/DEU/2009': 15, 'Human adenovirus A': 15, 'Human associated cyclovirus 10 strain 7078A': 15, 'Human herpesvirus 7': 15, 'Human papillomavirus type 63': 15, 'Adeno-associated virus - 8': 15, 'Human smacovirus 1 isolate France/12/2008/3454': 14, 'Sapovirus C12 strain C12': 14, 'HMO Astrovirus A': 14, 'Mamastrovirus 1 genomic RNA': 14, 'Quaranfil virus isolate EG T 377 polymerase PB2 (PB2) gene': 14, 'Influenza A virus (A/Hong Kong/1073/99(H9N2)) segment 5': 14, 'Human papillomoavirus type 5': 12, 'TTV-like mini virus isolate TTMV_LY1': 12, 'Norovirus GII GII.NA2[PNA2]': 11, 'Norovirus GI': 11, 'Sapovirus Mc10': 10, 'Simian adenovirus 19 strain AA153': 10, 'Human gammaherpesvirus 4': 10, 'Human herpesvirus 6B': 10, 'Human astrovirus BF34': 10, 'NY_014 poxvirus strain 2013': 10, 'Torque teno virus 27': 10, 'Human coronavirus HKU1': 9, 'Human papillomavirus - 18': 9, 'Akhmeta virus isolate Akhmeta_2013-88': 8, 'Human papillomavirus type 166 isolate KC9': 8, 'Reston ebolavirus isolate Reston virus/M.fascicularis-tc/USA/1989/Philippines89-Pennsylvania': 8, 'Bat mastadenovirus WIV11': 8, 'Sapovirus Hu/Dresden/pJG-Sap01/DE': 7, 'Human adenovirus B1': 7, 'Baboon adenovirus 3 isolate BaAdV-2': 7, 'Human papillomavirus - 1': 7, 'Gemycircularvirus HV-GcV2': 7, 'Human papillomavirus type 172': 7, 'Human associated huchismacovirus 1 isolate Oregon/6/2011/GottageGrove/5A1': 7, 'Variola virus': 7, 'Bocavirus gorilla/GBoV1/2009': 7, 'Influenza A virus (A/Korea/426/1968(H2N2)) segment 7': 7, 'Human papillomavirus type 135': 6, 'Bat adenovirus 3 strain TJM': 6, 'Sapovirus Hu/Nagoya/NGY-1/2012/JPN genomic RNA': 6, 'Human betaherpesvirus 6A': 6, 'Murray Valley encephalitis virus': 6, 'Human orthopneumovirus Subgroup A': 6, 'Norovirus GI strain Hu/JP/2000/GI.6[PNA1]/WUG1': 5, 'Norovirus GI strain Hu/JP/1998/GI.6[PNA4]/No20-Saitama-98-17': 5, 'Human coronavirus 229E': 5, 'Human papillomavirus type 179 complete genome': 5, 'Norovirus dog/GVI.1/HKU_Ca026F/2007/HKG ORF1 polyprotein': 5, 'Aichi virus genomic RNA': 5, 'Norovirus GIV': 5, 'Gemycircularvirus C1c capsid protein (Cap) gene': 5, 'Baboon cytomegalovirus OCOM4-37': 5, 'Human enterovirus D': 5, 'Human adenovirus B2': 4, 'Hepatitis C virus genotype 2': 4, 'Human herpesvirus 3': 4, 'Monkeypox virus': 4, 'Porcine endogenous retrovirus E': 4, 'Rotavirus A segment 6': 4, 'Torque teno midi virus 2': 4, 'Bat mastadenovirus WIV10': 4, 'Human adenovirus type 35': 4, 'Guanarito virus segment L': 4, 'Human adenovirus type 7': 3, 'Simian adenovirus 21': 3, 'Human herpesvirus 4': 3, 'Norovirus GII/Hu/JP/2011/GII/Yuzawa/Gira2HS': 3, 'Human adenovirus 54': 3, 'Human papillomavirus type 4': 3, 'Rotavirus A segment 1': 3, 'Salivirus A isolate 02394-01': 3, 'Human cosavirus E1': 3, 'Guaroa virus strain BeH22063 segment S': 3, 'Human papillomavirus type 201 isolate HPV201': 3, 'Salivirus NG-J1': 3, 'Parainfluenza virus 5 strain W3A': 3, 'Keystone virus strain B64-5587.05 segment L': 3, 'Adult diarrheal rotavirus strain J19': 3, 'Human rubulavirus 2': 2, 'Human papillomavirus type 49': 2, 'Human papillomavirus type 204 isolate A342': 2, 'Human papillomavirus type 187 isolate ACS447': 2, 'Rotavirus A segment 7': 2, 'Rotavirus A segment 10': 2, 'Human papillomavirus type 88': 2, 'Venezuelan equine encephalitis virus': 2, 'Senegalvirus SSV-A contig6 genomic sequence': 2, 'Gyrovirus 4': 2, 'Human papillomavirus type 178': 2, 'Avian paramyxovirus goose/Shimane/67/2000 viral cRNA': 2, 'Gammapapillomavirus sp. isolate GammaDyskD_w07c34d': 2, 'Human papillomavirus type 137': 2, 'Human papillomavirus - 2': 2, 'Sandfly Sicilian Turkey virus segment M': 2, 'Influenza A virus (A/Puerto Rico/8/1934(H1N1)) segment 8': 2, 'Rubella virus strain RVi/Bismarck.ND.USA/23.08/2B': 2, 'Dhori virus isolate Dhori/1313/61 segment 1': 2, 'Hepatitis GB virus B': 2, 'Horsepox virus': 2, 'Sudan ebolavirus isolate Sudan virus/H.sapiens-tc/UGA/2000/Gulu-808892': 2, 'Madrid virus strain BT4075 RNA-dependent RNA polymerase gene': 2, 'Tick-borne encephalitis virus': 2, 'Rabies virus': 2, 'Vaccinia virus': 2, 'Louping ill virus': 2, 'Avian hepatitis E virus': 2, 'Respiratory syncytial virus': 2, 'Norovirus GV': 2, 'Madrid virus strain BT4075 polyprotein gene': 2, 'Human Coronavirus NL63': 2, 'Human fecal virus Jorvi3': 2, 'Human papillomavirus type 9': 1, 'Human polyomavirus 6': 1, 'Human papillomavirus type 134': 1, 'Human papillomavirus type 92': 1, 'Rotavirus A segment 9': 1, 'Rotavirus A segment 3': 1, 'Aichi virus': 1, 'Torque teno midi virus 14 DNA': 1, 'polyprotein [echovirus 22 EV22': 1, 'Human papillomavirus type 108': 1, 'Poliovirus': 1, 'WU Polyomavirus': 1, 'Aichivirus B genomic RNA': 1, 'Human papillomavirus type 10 genomic DNA': 1, 'Human metapneumovirus isolate 00-1': 1, 'Human feces smacovirus 3 isolate P21': 1, 'Human papillomavirus type 85 isolate 114B': 1, 'Human genital-associated circular DNA virus-1 isolate 349': 1, 'Human associated huchismacovirus 3 isolate France/1/2009/3664': 1, 'Gammapapillomavirus HPV127': 1, 'Human papillomavirus type 60': 1, 'Influenza A virus (A/Hong Kong/1073/99(H9N2)) segment 8': 1, 'La Crosse virus segment M': 1, 'Hepatitis C virus genotype 6': 1, 'Human papillomavirus type 109': 1, 'Gammapapillomavirus sp. isolate Gamma_w23c08c': 1, 'Human parainfluenza virus 4a viral cRNA': 1, 'Maldonado virus strain FMD 0077 segment M polyprotein gene': 1, 'Cyclovirus PK5222': 1, 'Sosuga virus isolate 2012': 1, 'La Crosse virus strain LACV/human/1960 segment large': 1, 'Chikungunya virus': 1, 'Sequence 187 from Patent WO0028039': 1, 'Human parechovirus': 1, 'Human parainfluenza virus 3 strain ZHYMgz01': 1, 'Le Dantec virus nucleoprotein': 1, 'Torque teno midi virus 13 DNA': 1, 'Guenon simian foamy virus isolate AG16': 1, 'Torque teno virus 12': 1, 'Una virus non structural polyprotein gene': 1}\n"
     ]
    }
   ],
   "source": [
    "print(sorted_count_below_8)"
   ]
  },
  {
   "cell_type": "code",
   "execution_count": null,
   "metadata": {},
   "outputs": [],
   "source": [
    "# Replace keys in count_below_8 with names\n",
    "\n"
   ]
  }
 ],
 "metadata": {
  "kernelspec": {
   "display_name": "venv",
   "language": "python",
   "name": "python3"
  },
  "language_info": {
   "codemirror_mode": {
    "name": "ipython",
    "version": 3
   },
   "file_extension": ".py",
   "mimetype": "text/x-python",
   "name": "python",
   "nbconvert_exporter": "python",
   "pygments_lexer": "ipython3",
   "version": "3.10.8"
  }
 },
 "nbformat": 4,
 "nbformat_minor": 2
}
